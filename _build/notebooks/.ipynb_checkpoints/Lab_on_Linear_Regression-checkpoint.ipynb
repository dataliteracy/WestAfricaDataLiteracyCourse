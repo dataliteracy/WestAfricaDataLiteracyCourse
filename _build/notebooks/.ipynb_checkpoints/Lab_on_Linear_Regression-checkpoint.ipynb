{
 "cells": [
  {
   "cell_type": "code",
   "execution_count": null,
   "metadata": {
    "id": "aAAH9q7UP_yy"
   },
   "outputs": [],
   "source": [
    "import pandas as pd\n",
    "import matplotlib as plt\n",
    "import seaborn as sns\n",
    "import random"
   ]
  },
  {
   "cell_type": "code",
   "execution_count": null,
   "metadata": {
    "id": "EA4dJBTlQGIh"
   },
   "outputs": [],
   "source": [
    "# Let us start with a simple dataset\n",
    "x = [i for i in range(0,22, 2)]\n",
    "y = [4+0.8*i+random.random() for i in range(22, 0, -2) ]\n",
    "\n",
    "# Dataframe\n",
    "df = pd.DataFrame(\n",
    "    {'x': x,\n",
    "     'y': y}\n",
    ")"
   ]
  },
  {
   "cell_type": "code",
   "execution_count": null,
   "metadata": {
    "id": "qcwiA5EFVn8X"
   },
   "outputs": [],
   "source": [
    "df.head()"
   ]
  },
  {
   "cell_type": "code",
   "execution_count": null,
   "metadata": {
    "id": "qkIjCotFUJns"
   },
   "outputs": [],
   "source": [
    "sns.scatterplot(x='x', y = 'y', data=df)"
   ]
  },
  {
   "cell_type": "markdown",
   "metadata": {
    "id": "ykIA3ds4zvn2"
   },
   "source": [
    "Let us look at the correlation between x and y. Pandas has a corr method that allows to find the correlation between two columns. For demo puposes, we created the dataset to be highly negatively correlated. Therefore, we should expect a number close to -1, as we are using Pearson's correlation.  "
   ]
  },
  {
   "cell_type": "code",
   "execution_count": null,
   "metadata": {
    "id": "LtkIzPnSyjfc"
   },
   "outputs": [],
   "source": [
    "df.x.corr(df.y, method='pearson')"
   ]
  },
  {
   "cell_type": "code",
   "execution_count": null,
   "metadata": {
    "id": "3rVeQz-tVY81"
   },
   "outputs": [],
   "source": [
    "# The mean of x and y\n",
    "x_mean = df.x.mean()\n",
    "y_mean = df.y.mean()\n",
    "\n",
    "\n",
    "df['xycov'] = (df['x'] - x_mean) * (df['y'] - y_mean)\n",
    "df['xvar'] = (df['x'] - x_mean)**2\n",
    "\n",
    "# Calculate the slope and intercept\n",
    "m = df['xycov'].sum() / df['xvar'].sum()\n",
    "c = y_mean - (m * x_mean)\n",
    "print('c = ', c)\n",
    "print ('m = ', m)\n",
    "print ('line: ', 'y = '+str(round(c, 3))+'x + '+str(round(m,3)))"
   ]
  },
  {
   "cell_type": "code",
   "execution_count": null,
   "metadata": {
    "id": "D8SS8BXnxhEa"
   },
   "outputs": [],
   "source": [
    "# Now we can use the line to predict y\n",
    "df['y_pred'] = m*df['x']+c"
   ]
  },
  {
   "cell_type": "code",
   "execution_count": null,
   "metadata": {
    "id": "NTXU6lUIVYnK"
   },
   "outputs": [],
   "source": [
    "df"
   ]
  },
  {
   "cell_type": "code",
   "execution_count": null,
   "metadata": {
    "id": "MW-aeHorzVF8"
   },
   "outputs": [],
   "source": [
    "# Lets plot the line\n",
    "sns.lineplot(x='x', y = 'y_pred', data=df, color='red')\n",
    "sns.scatterplot(x='x', y = 'y', data=df)"
   ]
  },
  {
   "cell_type": "code",
   "execution_count": null,
   "metadata": {
    "id": "x5smhDfBkQUu"
   },
   "outputs": [],
   "source": [
    "# Let us plot both y and y_pred to have a visual sense of how we did\n",
    "df.plot(kind='bar', x='x', y=['y', 'y_pred'], figsize=(20, 5))"
   ]
  },
  {
   "cell_type": "code",
   "execution_count": null,
   "metadata": {
    "id": "I7Ymt_qGrKrg"
   },
   "outputs": [],
   "source": [
    "# Calculate the coefficient of determination or R squared\n",
    "# The coefficient of determination is the proportion of the variance in the dependent variable that is predictable from the independent variable.\n",
    "# It ranges from 0 to 1.\n",
    "\n",
    "1 - ((df['y'] - df['y_pred'])).var()/df['y'].var()"
   ]
  },
  {
   "cell_type": "markdown",
   "metadata": {
    "id": "GScGmt92LJPK"
   },
   "source": [
    "Here the predictability is really good."
   ]
  },
  {
   "cell_type": "code",
   "execution_count": null,
   "metadata": {
    "id": "HahwZ0UA2Gex"
   },
   "outputs": [],
   "source": [
    "# If we wanted to predict what y would be when a new point x=11 is given, we could\n",
    "m*11+c"
   ]
  },
  {
   "cell_type": "markdown",
   "metadata": {
    "id": "FSZqf8pc_FsH"
   },
   "source": [
    "Lets try out a real example"
   ]
  },
  {
   "cell_type": "code",
   "execution_count": null,
   "metadata": {
    "id": "9JvxKsb1Qcjr"
   },
   "outputs": [],
   "source": [
    "from google.colab import drive\n",
    "drive.mount('/content/drive')"
   ]
  },
  {
   "cell_type": "code",
   "execution_count": null,
   "metadata": {
    "id": "pBGDYnDGQdJX"
   },
   "outputs": [],
   "source": [
    "path = \"\""
   ]
  },
  {
   "cell_type": "code",
   "execution_count": null,
   "metadata": {
    "id": "zDwQfQinQwBM"
   },
   "outputs": [],
   "source": [
    "df = pd.read_csv(path)"
   ]
  },
  {
   "cell_type": "code",
   "execution_count": null,
   "metadata": {
    "id": "dFLZbvtmQ80W"
   },
   "outputs": [],
   "source": [
    "df.head()"
   ]
  },
  {
   "cell_type": "code",
   "execution_count": null,
   "metadata": {
    "id": "SI0OuyJyfvcc"
   },
   "outputs": [],
   "source": [
    "df.tail()"
   ]
  },
  {
   "cell_type": "markdown",
   "metadata": {
    "id": "4EHKVMrt_VTU"
   },
   "source": [
    "Let us remove Achham and Udayapur for now. We will use the model we created to predict the proverty rate of Accham"
   ]
  },
  {
   "cell_type": "code",
   "execution_count": null,
   "metadata": {
    "id": "AGv4XX-V8G7q"
   },
   "outputs": [],
   "source": [
    "df = df[1:-1]"
   ]
  },
  {
   "cell_type": "code",
   "execution_count": null,
   "metadata": {
    "id": "JSbe0d7K8Vi3"
   },
   "outputs": [],
   "source": [
    "df.tail()"
   ]
  },
  {
   "cell_type": "code",
   "execution_count": null,
   "metadata": {
    "id": "4FvorrKoQ45s"
   },
   "outputs": [],
   "source": [
    "sns.scatterplot(x='literacy rate', y = 'poverty rate', data=df)"
   ]
  },
  {
   "cell_type": "code",
   "execution_count": null,
   "metadata": {
    "id": "jjtIBs5tzFDC"
   },
   "outputs": [],
   "source": [
    "df['literacy rate'].corr(df['poverty rate'], method='pearson')"
   ]
  },
  {
   "cell_type": "code",
   "execution_count": null,
   "metadata": {
    "id": "Y4OYjrgURCsq"
   },
   "outputs": [],
   "source": [
    "x_mean = df['literacy rate'].mean()\n",
    "y_mean = df['poverty rate'].mean()\n",
    "\n",
    "\n",
    "df['xycov'] = (df['literacy rate'] - x_mean) * (df['poverty rate'] - y_mean)\n",
    "df['xvar'] = (df['literacy rate'] - x_mean)**2\n",
    "\n",
    "# Calculate the slope and intercept\n",
    "m = df['xycov'].sum() / df['xvar'].sum()\n",
    "c = y_mean - (m * x_mean)\n",
    "print('c = ', c)\n",
    "print ('m = ', m)\n",
    "print ('line: ', 'y = '+str(round(c, 3))+'x + '+str(round(m,3)))"
   ]
  },
  {
   "cell_type": "code",
   "execution_count": null,
   "metadata": {
    "id": "HeulYywk1XQ6"
   },
   "outputs": [],
   "source": [
    "df['y_pred'] = m*df['literacy rate']+c"
   ]
  },
  {
   "cell_type": "code",
   "execution_count": null,
   "metadata": {
    "id": "4AygGy4qRUqk"
   },
   "outputs": [],
   "source": [
    "sns.lineplot(x='literacy rate', y = 'y_pred', data=df, color='red')\n",
    "sns.scatterplot(x='literacy rate', y = 'poverty rate', data=df)"
   ]
  },
  {
   "cell_type": "markdown",
   "metadata": {
    "id": "S9Mzg2kv1TYM"
   },
   "source": [
    "For Achham, the predicted poverty rate is"
   ]
  },
  {
   "cell_type": "code",
   "execution_count": null,
   "metadata": {
    "id": "yL4VP-_d2JPh"
   },
   "outputs": [],
   "source": [
    "round(m*0.476151+c , 3)"
   ]
  },
  {
   "cell_type": "markdown",
   "metadata": {
    "id": "CGzyptQBhnB2"
   },
   "source": [
    "But, we know that the actual poverty rate was 0.472"
   ]
  },
  {
   "cell_type": "markdown",
   "metadata": {
    "id": "zFnuMP3xgE9x"
   },
   "source": [
    "For Udaypur, the predicted poverty rate is"
   ]
  },
  {
   "cell_type": "code",
   "execution_count": null,
   "metadata": {
    "id": "0wvwnFY2AsSf"
   },
   "outputs": [],
   "source": [
    "round (m*0.614868+c, 3)"
   ]
  },
  {
   "cell_type": "markdown",
   "metadata": {
    "id": "OI0rbukPhEkc"
   },
   "source": [
    "But, we know that the actual poverty rate was 0.259"
   ]
  },
  {
   "cell_type": "code",
   "execution_count": null,
   "metadata": {
    "id": "WIUGNQTyjQKc"
   },
   "outputs": [],
   "source": [
    "# coefficient of determination\n",
    "(1 - ((df['poverty rate'] - df['y_pred'])).var()/df['poverty rate'].var())"
   ]
  },
  {
   "cell_type": "markdown",
   "metadata": {
    "id": "v6W5oAtVwbxe"
   },
   "source": [
    "The accuracy or score of Linear Regression is tied to how well the data is correlated with each other. The coefficient of dertermination (R^2) for Linear Regression is the square of correlation.   "
   ]
  },
  {
   "cell_type": "code",
   "execution_count": null,
   "metadata": {
    "id": "ROc66aadQuSH"
   },
   "outputs": [],
   "source": []
  }
 ],
 "metadata": {
  "colab": {
   "provenance": []
  },
  "kernelspec": {
   "display_name": "Python 3",
   "language": "python",
   "name": "python3"
  },
  "language_info": {
   "codemirror_mode": {
    "name": "ipython",
    "version": 3
   },
   "file_extension": ".py",
   "mimetype": "text/x-python",
   "name": "python",
   "nbconvert_exporter": "python",
   "pygments_lexer": "ipython3",
   "version": "3.8.5"
  }
 },
 "nbformat": 4,
 "nbformat_minor": 1
}
