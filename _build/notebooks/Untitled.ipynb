{
 "cells": [
  {
   "cell_type": "code",
   "execution_count": 8,
   "metadata": {},
   "outputs": [
    {
     "name": "stdout",
     "output_type": "stream",
     "text": [
      "Collecting jupytext\n",
      "  Downloading jupytext-1.15.2-py3-none-any.whl (307 kB)\n",
      "Requirement already satisfied: pyyaml in c:\\users\\kloen\\anaconda3\\lib\\site-packages (from jupytext) (5.3.1)\n",
      "Requirement already satisfied: mdit-py-plugins in c:\\users\\kloen\\anaconda3\\lib\\site-packages (from jupytext) (0.3.5)\n",
      "Requirement already satisfied: markdown-it-py>=1.0.0 in c:\\users\\kloen\\anaconda3\\lib\\site-packages (from jupytext) (2.2.0)\n",
      "Requirement already satisfied: nbformat in c:\\users\\kloen\\anaconda3\\lib\\site-packages (from jupytext) (5.0.8)\n",
      "Requirement already satisfied: toml in c:\\users\\kloen\\anaconda3\\lib\\site-packages (from jupytext) (0.10.1)\n",
      "Requirement already satisfied: mdurl~=0.1 in c:\\users\\kloen\\anaconda3\\lib\\site-packages (from markdown-it-py>=1.0.0->jupytext) (0.1.2)\n",
      "Requirement already satisfied: jsonschema!=2.5.0,>=2.4 in c:\\users\\kloen\\anaconda3\\lib\\site-packages (from nbformat->jupytext) (3.2.0)\n",
      "Requirement already satisfied: jupyter-core in c:\\users\\kloen\\anaconda3\\lib\\site-packages (from nbformat->jupytext) (4.6.3)\n",
      "Requirement already satisfied: ipython-genutils in c:\\users\\kloen\\anaconda3\\lib\\site-packages (from nbformat->jupytext) (0.2.0)\n",
      "Requirement already satisfied: traitlets>=4.1 in c:\\users\\kloen\\anaconda3\\lib\\site-packages (from nbformat->jupytext) (5.0.5)\n",
      "Requirement already satisfied: setuptools in c:\\users\\kloen\\anaconda3\\lib\\site-packages (from jsonschema!=2.5.0,>=2.4->nbformat->jupytext) (50.3.1.post20201107)\n",
      "Requirement already satisfied: attrs>=17.4.0 in c:\\users\\kloen\\anaconda3\\lib\\site-packages (from jsonschema!=2.5.0,>=2.4->nbformat->jupytext) (20.3.0)\n",
      "Requirement already satisfied: six>=1.11.0 in c:\\users\\kloen\\anaconda3\\lib\\site-packages (from jsonschema!=2.5.0,>=2.4->nbformat->jupytext) (1.16.0)\n",
      "Requirement already satisfied: pyrsistent>=0.14.0 in c:\\users\\kloen\\anaconda3\\lib\\site-packages (from jsonschema!=2.5.0,>=2.4->nbformat->jupytext) (0.17.3)\n",
      "Requirement already satisfied: pywin32>=1.0; sys_platform == \"win32\" in c:\\users\\kloen\\anaconda3\\lib\\site-packages (from jupyter-core->nbformat->jupytext) (227)\n",
      "Installing collected packages: jupytext\n",
      "Successfully installed jupytext-1.15.2\n"
     ]
    }
   ],
   "source": [
    "! pip install jupytext"
   ]
  },
  {
   "cell_type": "code",
   "execution_count": 9,
   "metadata": {},
   "outputs": [
    {
     "name": "stdout",
     "output_type": "stream",
     "text": [
      "[jupytext] Reading Lab_on_Linear_Regression.ipynb in format ipynb\n",
      "[jupytext] Writing Lab_on_Linear_Regression.md in format md:myst\n"
     ]
    }
   ],
   "source": [
    "! jupytext Lab_on_Linear_Regression.ipynb --to myst"
   ]
  },
  {
   "cell_type": "code",
   "execution_count": 10,
   "metadata": {},
   "outputs": [
    {
     "data": {
      "text/plain": [
       "'C:\\\\Users\\\\kloen\\\\OneDrive\\\\Desktop\\\\DataLiteracyBook\\\\_build\\\\notebooks'"
      ]
     },
     "execution_count": 10,
     "metadata": {},
     "output_type": "execute_result"
    }
   ],
   "source": [
    "pwd"
   ]
  },
  {
   "cell_type": "code",
   "execution_count": null,
   "metadata": {},
   "outputs": [],
   "source": []
  }
 ],
 "metadata": {
  "kernelspec": {
   "display_name": "Python 3",
   "language": "python",
   "name": "python3"
  },
  "language_info": {
   "codemirror_mode": {
    "name": "ipython",
    "version": 3
   },
   "file_extension": ".py",
   "mimetype": "text/x-python",
   "name": "python",
   "nbconvert_exporter": "python",
   "pygments_lexer": "ipython3",
   "version": "3.8.5"
  }
 },
 "nbformat": 4,
 "nbformat_minor": 4
}
